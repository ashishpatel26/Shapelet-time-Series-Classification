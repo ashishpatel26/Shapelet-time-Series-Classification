{
  "nbformat": 4,
  "nbformat_minor": 0,
  "metadata": {
    "colab": {
      "name": "Time Series Classification Shaplet Learning.ipynb",
      "provenance": [],
      "authorship_tag": "ABX9TyM3DIVT56FECufloz9cZv6Y",
      "include_colab_link": true
    },
    "kernelspec": {
      "name": "python3",
      "display_name": "Python 3"
    },
    "language_info": {
      "name": "python"
    }
  },
  "cells": [
    {
      "cell_type": "markdown",
      "metadata": {
        "id": "view-in-github",
        "colab_type": "text"
      },
      "source": [
        "<a href=\"https://colab.research.google.com/github/ashishpatel26/Shapelet-time-Series-Classification/blob/main/Time_Series_Classification_Shaplet_Learning.ipynb\" target=\"_parent\"><img src=\"https://colab.research.google.com/assets/colab-badge.svg\" alt=\"Open In Colab\"/></a>"
      ]
    },
    {
      "cell_type": "code",
      "metadata": {
        "colab": {
          "base_uri": "https://localhost:8080/"
        },
        "id": "-s6Ife7-kPL0",
        "outputId": "312abc8c-df37-4e12-9998-17b6b7105170"
      },
      "source": [
        "!pip install tslearn"
      ],
      "execution_count": 2,
      "outputs": [
        {
          "output_type": "stream",
          "text": [
            "Collecting tslearn\n",
            "\u001b[?25l  Downloading https://files.pythonhosted.org/packages/95/98/9a67e2869a8b1416eb6e6fd5e69c56f86869980403b18f30bdb5783ade9d/tslearn-0.5.0.5-cp37-cp37m-manylinux2010_x86_64.whl (790kB)\n",
            "\r\u001b[K     |▍                               | 10kB 22.8MB/s eta 0:00:01\r\u001b[K     |▉                               | 20kB 28.6MB/s eta 0:00:01\r\u001b[K     |█▎                              | 30kB 22.6MB/s eta 0:00:01\r\u001b[K     |█▋                              | 40kB 17.2MB/s eta 0:00:01\r\u001b[K     |██                              | 51kB 8.7MB/s eta 0:00:01\r\u001b[K     |██▌                             | 61kB 7.9MB/s eta 0:00:01\r\u001b[K     |███                             | 71kB 9.0MB/s eta 0:00:01\r\u001b[K     |███▎                            | 81kB 9.9MB/s eta 0:00:01\r\u001b[K     |███▊                            | 92kB 10.4MB/s eta 0:00:01\r\u001b[K     |████▏                           | 102kB 8.5MB/s eta 0:00:01\r\u001b[K     |████▋                           | 112kB 8.5MB/s eta 0:00:01\r\u001b[K     |█████                           | 122kB 8.5MB/s eta 0:00:01\r\u001b[K     |█████▍                          | 133kB 8.5MB/s eta 0:00:01\r\u001b[K     |█████▉                          | 143kB 8.5MB/s eta 0:00:01\r\u001b[K     |██████▏                         | 153kB 8.5MB/s eta 0:00:01\r\u001b[K     |██████▋                         | 163kB 8.5MB/s eta 0:00:01\r\u001b[K     |███████                         | 174kB 8.5MB/s eta 0:00:01\r\u001b[K     |███████▌                        | 184kB 8.5MB/s eta 0:00:01\r\u001b[K     |███████▉                        | 194kB 8.5MB/s eta 0:00:01\r\u001b[K     |████████▎                       | 204kB 8.5MB/s eta 0:00:01\r\u001b[K     |████████▊                       | 215kB 8.5MB/s eta 0:00:01\r\u001b[K     |█████████▏                      | 225kB 8.5MB/s eta 0:00:01\r\u001b[K     |█████████▌                      | 235kB 8.5MB/s eta 0:00:01\r\u001b[K     |██████████                      | 245kB 8.5MB/s eta 0:00:01\r\u001b[K     |██████████▍                     | 256kB 8.5MB/s eta 0:00:01\r\u001b[K     |██████████▊                     | 266kB 8.5MB/s eta 0:00:01\r\u001b[K     |███████████▏                    | 276kB 8.5MB/s eta 0:00:01\r\u001b[K     |███████████▋                    | 286kB 8.5MB/s eta 0:00:01\r\u001b[K     |████████████                    | 296kB 8.5MB/s eta 0:00:01\r\u001b[K     |████████████▍                   | 307kB 8.5MB/s eta 0:00:01\r\u001b[K     |████████████▉                   | 317kB 8.5MB/s eta 0:00:01\r\u001b[K     |█████████████▎                  | 327kB 8.5MB/s eta 0:00:01\r\u001b[K     |█████████████▊                  | 337kB 8.5MB/s eta 0:00:01\r\u001b[K     |██████████████                  | 348kB 8.5MB/s eta 0:00:01\r\u001b[K     |██████████████▌                 | 358kB 8.5MB/s eta 0:00:01\r\u001b[K     |███████████████                 | 368kB 8.5MB/s eta 0:00:01\r\u001b[K     |███████████████▍                | 378kB 8.5MB/s eta 0:00:01\r\u001b[K     |███████████████▊                | 389kB 8.5MB/s eta 0:00:01\r\u001b[K     |████████████████▏               | 399kB 8.5MB/s eta 0:00:01\r\u001b[K     |████████████████▋               | 409kB 8.5MB/s eta 0:00:01\r\u001b[K     |█████████████████               | 419kB 8.5MB/s eta 0:00:01\r\u001b[K     |█████████████████▍              | 430kB 8.5MB/s eta 0:00:01\r\u001b[K     |█████████████████▉              | 440kB 8.5MB/s eta 0:00:01\r\u001b[K     |██████████████████▎             | 450kB 8.5MB/s eta 0:00:01\r\u001b[K     |██████████████████▋             | 460kB 8.5MB/s eta 0:00:01\r\u001b[K     |███████████████████             | 471kB 8.5MB/s eta 0:00:01\r\u001b[K     |███████████████████▌            | 481kB 8.5MB/s eta 0:00:01\r\u001b[K     |████████████████████            | 491kB 8.5MB/s eta 0:00:01\r\u001b[K     |████████████████████▎           | 501kB 8.5MB/s eta 0:00:01\r\u001b[K     |████████████████████▊           | 512kB 8.5MB/s eta 0:00:01\r\u001b[K     |█████████████████████▏          | 522kB 8.5MB/s eta 0:00:01\r\u001b[K     |█████████████████████▌          | 532kB 8.5MB/s eta 0:00:01\r\u001b[K     |██████████████████████          | 542kB 8.5MB/s eta 0:00:01\r\u001b[K     |██████████████████████▍         | 552kB 8.5MB/s eta 0:00:01\r\u001b[K     |██████████████████████▉         | 563kB 8.5MB/s eta 0:00:01\r\u001b[K     |███████████████████████▏        | 573kB 8.5MB/s eta 0:00:01\r\u001b[K     |███████████████████████▋        | 583kB 8.5MB/s eta 0:00:01\r\u001b[K     |████████████████████████        | 593kB 8.5MB/s eta 0:00:01\r\u001b[K     |████████████████████████▌       | 604kB 8.5MB/s eta 0:00:01\r\u001b[K     |████████████████████████▉       | 614kB 8.5MB/s eta 0:00:01\r\u001b[K     |█████████████████████████▎      | 624kB 8.5MB/s eta 0:00:01\r\u001b[K     |█████████████████████████▊      | 634kB 8.5MB/s eta 0:00:01\r\u001b[K     |██████████████████████████▏     | 645kB 8.5MB/s eta 0:00:01\r\u001b[K     |██████████████████████████▌     | 655kB 8.5MB/s eta 0:00:01\r\u001b[K     |███████████████████████████     | 665kB 8.5MB/s eta 0:00:01\r\u001b[K     |███████████████████████████▍    | 675kB 8.5MB/s eta 0:00:01\r\u001b[K     |███████████████████████████▊    | 686kB 8.5MB/s eta 0:00:01\r\u001b[K     |████████████████████████████▏   | 696kB 8.5MB/s eta 0:00:01\r\u001b[K     |████████████████████████████▋   | 706kB 8.5MB/s eta 0:00:01\r\u001b[K     |█████████████████████████████   | 716kB 8.5MB/s eta 0:00:01\r\u001b[K     |█████████████████████████████▍  | 727kB 8.5MB/s eta 0:00:01\r\u001b[K     |█████████████████████████████▉  | 737kB 8.5MB/s eta 0:00:01\r\u001b[K     |██████████████████████████████▎ | 747kB 8.5MB/s eta 0:00:01\r\u001b[K     |██████████████████████████████▊ | 757kB 8.5MB/s eta 0:00:01\r\u001b[K     |███████████████████████████████ | 768kB 8.5MB/s eta 0:00:01\r\u001b[K     |███████████████████████████████▌| 778kB 8.5MB/s eta 0:00:01\r\u001b[K     |████████████████████████████████| 788kB 8.5MB/s eta 0:00:01\r\u001b[K     |████████████████████████████████| 798kB 8.5MB/s \n",
            "\u001b[?25hRequirement already satisfied: scikit-learn in /usr/local/lib/python3.7/dist-packages (from tslearn) (0.22.2.post1)\n",
            "Requirement already satisfied: Cython in /usr/local/lib/python3.7/dist-packages (from tslearn) (0.29.22)\n",
            "Requirement already satisfied: numpy in /usr/local/lib/python3.7/dist-packages (from tslearn) (1.19.5)\n",
            "Requirement already satisfied: numba in /usr/local/lib/python3.7/dist-packages (from tslearn) (0.51.2)\n",
            "Requirement already satisfied: scipy in /usr/local/lib/python3.7/dist-packages (from tslearn) (1.4.1)\n",
            "Requirement already satisfied: joblib in /usr/local/lib/python3.7/dist-packages (from tslearn) (1.0.1)\n",
            "Requirement already satisfied: setuptools in /usr/local/lib/python3.7/dist-packages (from numba->tslearn) (56.1.0)\n",
            "Requirement already satisfied: llvmlite<0.35,>=0.34.0.dev0 in /usr/local/lib/python3.7/dist-packages (from numba->tslearn) (0.34.0)\n",
            "Installing collected packages: tslearn\n",
            "Successfully installed tslearn-0.5.0.5\n"
          ],
          "name": "stdout"
        }
      ]
    },
    {
      "cell_type": "code",
      "metadata": {
        "colab": {
          "base_uri": "https://localhost:8080/"
        },
        "id": "FxKvTgrJjsUl",
        "outputId": "0f5831a9-08a5-4da6-e587-3936e2f0d34c"
      },
      "source": [
        "import numpy\n",
        "from sklearn.metrics import accuracy_score\n",
        "import tensorflow as tf\n",
        "import matplotlib.pyplot as plt\n",
        "\n",
        "from tslearn.datasets import CachedDatasets\n",
        "from tslearn.preprocessing import TimeSeriesScalerMinMax\n",
        "from tslearn.shapelets import LearningShapelets, grabocka_params_to_shapelet_size_dict\n",
        "from tslearn.utils import ts_size"
      ],
      "execution_count": 3,
      "outputs": [
        {
          "output_type": "stream",
          "text": [
            "/usr/local/lib/python3.7/dist-packages/tslearn/clustering/kmeans.py:17: UserWarning: Scikit-learn <0.24 will be deprecated in a future release of tslearn\n",
            "  \"Scikit-learn <0.24 will be deprecated in a \"\n"
          ],
          "name": "stderr"
        }
      ]
    },
    {
      "cell_type": "code",
      "metadata": {
        "id": "vDd7yHU5j-3k"
      },
      "source": [
        "# Set seed for determinism\n",
        "numpy.random.seed(0)"
      ],
      "execution_count": 4,
      "outputs": []
    },
    {
      "cell_type": "code",
      "metadata": {
        "id": "NF7PWz45kW3u"
      },
      "source": [
        "# Load the Trace dataset\n",
        "X_train, y_train, X_test, y_test = CachedDatasets().load_dataset(\"Trace\")"
      ],
      "execution_count": 5,
      "outputs": []
    },
    {
      "cell_type": "code",
      "metadata": {
        "id": "GmsAW5Fdkbn5"
      },
      "source": [
        "# Normalize each of the timeseries in the Trace dataset\n",
        "X_train = TimeSeriesScalerMinMax().fit_transform(X_train)\n",
        "X_test = TimeSeriesScalerMinMax().fit_transform(X_test)"
      ],
      "execution_count": 15,
      "outputs": []
    },
    {
      "cell_type": "code",
      "metadata": {
        "id": "hPoKPMTNmSp4"
      },
      "source": [
        "# Get statistics of the dataset\n",
        "n_ts, ts_sz = X_train.shape[:2]\n",
        "n_classes = len(set(y_train))"
      ],
      "execution_count": 21,
      "outputs": []
    },
    {
      "cell_type": "code",
      "metadata": {
        "colab": {
          "base_uri": "https://localhost:8080/"
        },
        "id": "dXzUkML3nvjx",
        "outputId": "bccc1eca-7ef6-4f43-c983-8e0d371b4612"
      },
      "source": [
        "help(grabocka_params_to_shapelet_size_dict)"
      ],
      "execution_count": 24,
      "outputs": [
        {
          "output_type": "stream",
          "text": [
            "Help on function grabocka_params_to_shapelet_size_dict in module tslearn.shapelets.shapelets:\n",
            "\n",
            "grabocka_params_to_shapelet_size_dict(n_ts, ts_sz, n_classes, l, r)\n",
            "    Compute number and length of shapelets.\n",
            "    \n",
            "     This function uses the heuristic from [1]_.\n",
            "    \n",
            "    Parameters\n",
            "    ----------\n",
            "    n_ts: int\n",
            "        Number of time series in the dataset\n",
            "    ts_sz: int\n",
            "        Length of time series in the dataset\n",
            "    n_classes: int\n",
            "        Number of classes in the dataset\n",
            "    l: float\n",
            "        Fraction of the length of time series to be used for base shapelet\n",
            "        length\n",
            "    r: int\n",
            "        Number of different shapelet lengths to use\n",
            "    \n",
            "    Returns\n",
            "    -------\n",
            "    dict\n",
            "        Dictionary giving, for each shapelet length, the number of such\n",
            "        shapelets to be generated\n",
            "    \n",
            "    Examples\n",
            "    --------\n",
            "    >>> d = grabocka_params_to_shapelet_size_dict(\n",
            "    ...         n_ts=100, ts_sz=100, n_classes=3, l=0.1, r=2)\n",
            "    >>> keys = sorted(d.keys())\n",
            "    >>> print(keys)\n",
            "    [10, 20]\n",
            "    >>> print([d[k] for k in keys])\n",
            "    [4, 4]\n",
            "    \n",
            "    \n",
            "    References\n",
            "    ----------\n",
            "    .. [1] J. Grabocka et al. Learning Time-Series Shapelets. SIGKDD 2014.\n",
            "\n"
          ],
          "name": "stdout"
        }
      ]
    },
    {
      "cell_type": "code",
      "metadata": {
        "colab": {
          "base_uri": "https://localhost:8080/"
        },
        "id": "RHnxcoxCmj8P",
        "outputId": "d15c28b3-6031-4cbe-970a-1e544abe3e6c"
      },
      "source": [
        "# Set the number of shapelets per size as done in the original paper\n",
        "shapelet_sizes = grabocka_params_to_shapelet_size_dict(n_ts=n_ts, ts_sz=ts_sz, n_classes=n_classes, l=0.1, r=1)\n",
        "print(shapelet_sizes)"
      ],
      "execution_count": 23,
      "outputs": [
        {
          "output_type": "stream",
          "text": [
            "{27: 4}\n"
          ],
          "name": "stdout"
        }
      ]
    },
    {
      "cell_type": "code",
      "metadata": {
        "colab": {
          "base_uri": "https://localhost:8080/"
        },
        "id": "DDnOKomen8Ye",
        "outputId": "e8df3d11-13c8-43fe-c566-50d2a57b7b17"
      },
      "source": [
        "# Define the model using parameters provided by the authors (except that we use fewer iterations here)\n",
        "shp_clf = LearningShapelets(n_shapelets_per_size=shapelet_sizes, \n",
        "                            optimizer=tf.optimizers.Adam(.01), \n",
        "                            batch_size=16, \n",
        "                            weight_regularizer=.01, \n",
        "                            max_iter=200, \n",
        "                            random_state=42,\n",
        "                            verbose=1)"
      ],
      "execution_count": 27,
      "outputs": [
        {
          "output_type": "stream",
          "text": [
            "/usr/local/lib/python3.7/dist-packages/tslearn/shapelets/shapelets.py:357: FutureWarning: The default value for 'scale' is set to False in version 0.4 to ensure backward compatibility, but is likely to change in a future version.\n",
            "  FutureWarning)\n"
          ],
          "name": "stderr"
        }
      ]
    },
    {
      "cell_type": "code",
      "metadata": {
        "colab": {
          "base_uri": "https://localhost:8080/"
        },
        "id": "2cet91geofzI",
        "outputId": "fab42dee-53a1-44da-d9d0-e5c2c9420a18"
      },
      "source": [
        "shp_clf.fit(X_train, y_train)"
      ],
      "execution_count": 28,
      "outputs": [
        {
          "output_type": "stream",
          "text": [
            "Epoch 1/200\n",
            "7/7 [==============================] - 1s 3ms/step - loss: 1.4207 - categorical_accuracy: 0.3415 - categorical_crossentropy: 1.3858\n",
            "Epoch 2/200\n",
            "7/7 [==============================] - 0s 3ms/step - loss: 1.3844 - categorical_accuracy: 0.3322 - categorical_crossentropy: 1.3539\n",
            "Epoch 3/200\n",
            "7/7 [==============================] - 0s 3ms/step - loss: 1.3597 - categorical_accuracy: 0.3990 - categorical_crossentropy: 1.3322\n",
            "Epoch 4/200\n",
            "7/7 [==============================] - 0s 3ms/step - loss: 1.3344 - categorical_accuracy: 0.5362 - categorical_crossentropy: 1.3082\n",
            "Epoch 5/200\n",
            "7/7 [==============================] - 0s 3ms/step - loss: 1.3013 - categorical_accuracy: 0.5515 - categorical_crossentropy: 1.2746\n",
            "Epoch 6/200\n",
            "7/7 [==============================] - 0s 3ms/step - loss: 1.2720 - categorical_accuracy: 0.5842 - categorical_crossentropy: 1.2436\n",
            "Epoch 7/200\n",
            "7/7 [==============================] - 0s 3ms/step - loss: 1.2025 - categorical_accuracy: 0.6403 - categorical_crossentropy: 1.1712\n",
            "Epoch 8/200\n",
            "7/7 [==============================] - 0s 4ms/step - loss: 1.2242 - categorical_accuracy: 0.5426 - categorical_crossentropy: 1.1893\n",
            "Epoch 9/200\n",
            "7/7 [==============================] - 0s 3ms/step - loss: 1.1826 - categorical_accuracy: 0.5468 - categorical_crossentropy: 1.1434\n",
            "Epoch 10/200\n",
            "7/7 [==============================] - 0s 3ms/step - loss: 1.1482 - categorical_accuracy: 0.5566 - categorical_crossentropy: 1.1039\n",
            "Epoch 11/200\n",
            "7/7 [==============================] - 0s 3ms/step - loss: 1.1135 - categorical_accuracy: 0.5659 - categorical_crossentropy: 1.0633\n",
            "Epoch 12/200\n",
            "7/7 [==============================] - 0s 4ms/step - loss: 1.0261 - categorical_accuracy: 0.6284 - categorical_crossentropy: 0.9694\n",
            "Epoch 13/200\n",
            "7/7 [==============================] - 0s 3ms/step - loss: 1.0487 - categorical_accuracy: 0.5624 - categorical_crossentropy: 0.9856\n",
            "Epoch 14/200\n",
            "7/7 [==============================] - 0s 3ms/step - loss: 1.0227 - categorical_accuracy: 0.5674 - categorical_crossentropy: 0.9531\n",
            "Epoch 15/200\n",
            "7/7 [==============================] - 0s 4ms/step - loss: 1.0002 - categorical_accuracy: 0.5563 - categorical_crossentropy: 0.9244\n",
            "Epoch 16/200\n",
            "7/7 [==============================] - 0s 3ms/step - loss: 0.9336 - categorical_accuracy: 0.6071 - categorical_crossentropy: 0.8517\n",
            "Epoch 17/200\n",
            "7/7 [==============================] - 0s 3ms/step - loss: 0.9631 - categorical_accuracy: 0.5609 - categorical_crossentropy: 0.8758\n",
            "Epoch 18/200\n",
            "7/7 [==============================] - 0s 3ms/step - loss: 0.9590 - categorical_accuracy: 0.5340 - categorical_crossentropy: 0.8658\n",
            "Epoch 19/200\n",
            "7/7 [==============================] - 0s 3ms/step - loss: 0.8918 - categorical_accuracy: 0.5922 - categorical_crossentropy: 0.7927\n",
            "Epoch 20/200\n",
            "7/7 [==============================] - 0s 3ms/step - loss: 0.8736 - categorical_accuracy: 0.5879 - categorical_crossentropy: 0.7694\n",
            "Epoch 21/200\n",
            "7/7 [==============================] - 0s 3ms/step - loss: 0.8372 - categorical_accuracy: 0.6309 - categorical_crossentropy: 0.7284\n",
            "Epoch 22/200\n",
            "7/7 [==============================] - 0s 4ms/step - loss: 0.8518 - categorical_accuracy: 0.6781 - categorical_crossentropy: 0.7387\n",
            "Epoch 23/200\n",
            "7/7 [==============================] - 0s 3ms/step - loss: 0.8125 - categorical_accuracy: 0.8324 - categorical_crossentropy: 0.6956\n",
            "Epoch 24/200\n",
            "7/7 [==============================] - 0s 4ms/step - loss: 0.8508 - categorical_accuracy: 0.7818 - categorical_crossentropy: 0.7314\n",
            "Epoch 25/200\n",
            "7/7 [==============================] - 0s 3ms/step - loss: 0.7947 - categorical_accuracy: 0.9523 - categorical_crossentropy: 0.6727\n",
            "Epoch 26/200\n",
            "7/7 [==============================] - 0s 3ms/step - loss: 0.8050 - categorical_accuracy: 0.7853 - categorical_crossentropy: 0.6801\n",
            "Epoch 27/200\n",
            "7/7 [==============================] - 0s 4ms/step - loss: 0.7666 - categorical_accuracy: 0.7984 - categorical_crossentropy: 0.6389\n",
            "Epoch 28/200\n",
            "7/7 [==============================] - 0s 3ms/step - loss: 0.8237 - categorical_accuracy: 0.7532 - categorical_crossentropy: 0.6924\n",
            "Epoch 29/200\n",
            "7/7 [==============================] - 0s 3ms/step - loss: 0.7560 - categorical_accuracy: 0.8050 - categorical_crossentropy: 0.6219\n",
            "Epoch 30/200\n",
            "7/7 [==============================] - 0s 4ms/step - loss: 0.7605 - categorical_accuracy: 0.8183 - categorical_crossentropy: 0.6240\n",
            "Epoch 31/200\n",
            "7/7 [==============================] - 0s 4ms/step - loss: 0.7582 - categorical_accuracy: 0.9862 - categorical_crossentropy: 0.6184\n",
            "Epoch 32/200\n",
            "7/7 [==============================] - 0s 4ms/step - loss: 0.7439 - categorical_accuracy: 1.0000 - categorical_crossentropy: 0.6009\n",
            "Epoch 33/200\n",
            "7/7 [==============================] - 0s 4ms/step - loss: 0.7318 - categorical_accuracy: 0.8809 - categorical_crossentropy: 0.5860\n",
            "Epoch 34/200\n",
            "7/7 [==============================] - 0s 4ms/step - loss: 0.7139 - categorical_accuracy: 0.8061 - categorical_crossentropy: 0.5655\n",
            "Epoch 35/200\n",
            "7/7 [==============================] - 0s 3ms/step - loss: 0.7225 - categorical_accuracy: 0.8241 - categorical_crossentropy: 0.5723\n",
            "Epoch 36/200\n",
            "7/7 [==============================] - 0s 4ms/step - loss: 0.7226 - categorical_accuracy: 0.9724 - categorical_crossentropy: 0.5695\n",
            "Epoch 37/200\n",
            "7/7 [==============================] - 0s 4ms/step - loss: 0.7494 - categorical_accuracy: 0.7384 - categorical_crossentropy: 0.5934\n",
            "Epoch 38/200\n",
            "7/7 [==============================] - 0s 3ms/step - loss: 0.6849 - categorical_accuracy: 0.8147 - categorical_crossentropy: 0.5270\n",
            "Epoch 39/200\n",
            "7/7 [==============================] - 0s 3ms/step - loss: 0.7002 - categorical_accuracy: 0.8106 - categorical_crossentropy: 0.5407\n",
            "Epoch 40/200\n",
            "7/7 [==============================] - 0s 3ms/step - loss: 0.6825 - categorical_accuracy: 0.9588 - categorical_crossentropy: 0.5206\n",
            "Epoch 41/200\n",
            "7/7 [==============================] - 0s 3ms/step - loss: 0.6688 - categorical_accuracy: 0.8837 - categorical_crossentropy: 0.5049\n",
            "Epoch 42/200\n",
            "7/7 [==============================] - 0s 4ms/step - loss: 0.6387 - categorical_accuracy: 1.0000 - categorical_crossentropy: 0.4738\n",
            "Epoch 43/200\n",
            "7/7 [==============================] - 0s 3ms/step - loss: 0.6615 - categorical_accuracy: 1.0000 - categorical_crossentropy: 0.4955\n",
            "Epoch 44/200\n",
            "7/7 [==============================] - 0s 4ms/step - loss: 0.6558 - categorical_accuracy: 0.9832 - categorical_crossentropy: 0.4881\n",
            "Epoch 45/200\n",
            "7/7 [==============================] - 0s 4ms/step - loss: 0.6472 - categorical_accuracy: 0.7727 - categorical_crossentropy: 0.4781\n",
            "Epoch 46/200\n",
            "7/7 [==============================] - 0s 3ms/step - loss: 0.6651 - categorical_accuracy: 0.7677 - categorical_crossentropy: 0.4947\n",
            "Epoch 47/200\n",
            "7/7 [==============================] - 0s 4ms/step - loss: 0.6176 - categorical_accuracy: 0.8211 - categorical_crossentropy: 0.4458\n",
            "Epoch 48/200\n",
            "7/7 [==============================] - 0s 4ms/step - loss: 0.6240 - categorical_accuracy: 1.0000 - categorical_crossentropy: 0.4514\n",
            "Epoch 49/200\n",
            "7/7 [==============================] - 0s 4ms/step - loss: 0.6171 - categorical_accuracy: 0.9713 - categorical_crossentropy: 0.4432\n",
            "Epoch 50/200\n",
            "7/7 [==============================] - 0s 3ms/step - loss: 0.6422 - categorical_accuracy: 0.8209 - categorical_crossentropy: 0.4672\n",
            "Epoch 51/200\n",
            "7/7 [==============================] - 0s 4ms/step - loss: 0.6139 - categorical_accuracy: 1.0000 - categorical_crossentropy: 0.4383\n",
            "Epoch 52/200\n",
            "7/7 [==============================] - 0s 4ms/step - loss: 0.5774 - categorical_accuracy: 0.9962 - categorical_crossentropy: 0.4013\n",
            "Epoch 53/200\n",
            "7/7 [==============================] - 0s 4ms/step - loss: 0.6095 - categorical_accuracy: 0.8111 - categorical_crossentropy: 0.4326\n",
            "Epoch 54/200\n",
            "7/7 [==============================] - 0s 3ms/step - loss: 0.5641 - categorical_accuracy: 1.0000 - categorical_crossentropy: 0.3863\n",
            "Epoch 55/200\n",
            "7/7 [==============================] - 0s 3ms/step - loss: 0.5892 - categorical_accuracy: 1.0000 - categorical_crossentropy: 0.4107\n",
            "Epoch 56/200\n",
            "7/7 [==============================] - 0s 3ms/step - loss: 0.5752 - categorical_accuracy: 0.9386 - categorical_crossentropy: 0.3956\n",
            "Epoch 57/200\n",
            "7/7 [==============================] - 0s 3ms/step - loss: 0.5749 - categorical_accuracy: 0.9351 - categorical_crossentropy: 0.3954\n",
            "Epoch 58/200\n",
            "7/7 [==============================] - 0s 3ms/step - loss: 0.5903 - categorical_accuracy: 1.0000 - categorical_crossentropy: 0.4109\n",
            "Epoch 59/200\n",
            "7/7 [==============================] - 0s 3ms/step - loss: 0.5765 - categorical_accuracy: 1.0000 - categorical_crossentropy: 0.3958\n",
            "Epoch 60/200\n",
            "7/7 [==============================] - 0s 3ms/step - loss: 0.5664 - categorical_accuracy: 1.0000 - categorical_crossentropy: 0.3847\n",
            "Epoch 61/200\n",
            "7/7 [==============================] - 0s 3ms/step - loss: 0.5615 - categorical_accuracy: 1.0000 - categorical_crossentropy: 0.3796\n",
            "Epoch 62/200\n",
            "7/7 [==============================] - 0s 4ms/step - loss: 0.5737 - categorical_accuracy: 1.0000 - categorical_crossentropy: 0.3915\n",
            "Epoch 63/200\n",
            "7/7 [==============================] - 0s 4ms/step - loss: 0.5438 - categorical_accuracy: 0.9889 - categorical_crossentropy: 0.3616\n",
            "Epoch 64/200\n",
            "7/7 [==============================] - 0s 4ms/step - loss: 0.5556 - categorical_accuracy: 1.0000 - categorical_crossentropy: 0.3732\n",
            "Epoch 65/200\n",
            "7/7 [==============================] - 0s 4ms/step - loss: 0.5799 - categorical_accuracy: 1.0000 - categorical_crossentropy: 0.3972\n",
            "Epoch 66/200\n",
            "7/7 [==============================] - 0s 4ms/step - loss: 0.5495 - categorical_accuracy: 1.0000 - categorical_crossentropy: 0.3666\n",
            "Epoch 67/200\n",
            "7/7 [==============================] - 0s 3ms/step - loss: 0.5477 - categorical_accuracy: 0.9924 - categorical_crossentropy: 0.3648\n",
            "Epoch 68/200\n",
            "7/7 [==============================] - 0s 3ms/step - loss: 0.5537 - categorical_accuracy: 0.7972 - categorical_crossentropy: 0.3707\n",
            "Epoch 69/200\n",
            "7/7 [==============================] - 0s 3ms/step - loss: 0.5681 - categorical_accuracy: 0.9351 - categorical_crossentropy: 0.3853\n",
            "Epoch 70/200\n",
            "7/7 [==============================] - 0s 3ms/step - loss: 0.5018 - categorical_accuracy: 0.9548 - categorical_crossentropy: 0.3191\n",
            "Epoch 71/200\n",
            "7/7 [==============================] - 0s 3ms/step - loss: 0.5824 - categorical_accuracy: 0.9351 - categorical_crossentropy: 0.3997\n",
            "Epoch 72/200\n",
            "7/7 [==============================] - 0s 3ms/step - loss: 0.5375 - categorical_accuracy: 1.0000 - categorical_crossentropy: 0.3548\n",
            "Epoch 73/200\n",
            "7/7 [==============================] - 0s 3ms/step - loss: 0.5190 - categorical_accuracy: 1.0000 - categorical_crossentropy: 0.3364\n",
            "Epoch 74/200\n",
            "7/7 [==============================] - 0s 4ms/step - loss: 0.5289 - categorical_accuracy: 1.0000 - categorical_crossentropy: 0.3463\n",
            "Epoch 75/200\n",
            "7/7 [==============================] - 0s 4ms/step - loss: 0.5402 - categorical_accuracy: 1.0000 - categorical_crossentropy: 0.3573\n",
            "Epoch 76/200\n",
            "7/7 [==============================] - 0s 3ms/step - loss: 0.4976 - categorical_accuracy: 0.9471 - categorical_crossentropy: 0.3148\n",
            "Epoch 77/200\n",
            "7/7 [==============================] - 0s 3ms/step - loss: 0.5303 - categorical_accuracy: 1.0000 - categorical_crossentropy: 0.3478\n",
            "Epoch 78/200\n",
            "7/7 [==============================] - 0s 3ms/step - loss: 0.4798 - categorical_accuracy: 0.9962 - categorical_crossentropy: 0.2972\n",
            "Epoch 79/200\n",
            "7/7 [==============================] - 0s 4ms/step - loss: 0.5538 - categorical_accuracy: 1.0000 - categorical_crossentropy: 0.3712\n",
            "Epoch 80/200\n",
            "7/7 [==============================] - 0s 3ms/step - loss: 0.5113 - categorical_accuracy: 1.0000 - categorical_crossentropy: 0.3289\n",
            "Epoch 81/200\n",
            "7/7 [==============================] - 0s 3ms/step - loss: 0.5049 - categorical_accuracy: 1.0000 - categorical_crossentropy: 0.3226\n",
            "Epoch 82/200\n",
            "7/7 [==============================] - 0s 3ms/step - loss: 0.4827 - categorical_accuracy: 1.0000 - categorical_crossentropy: 0.3006\n",
            "Epoch 83/200\n",
            "7/7 [==============================] - 0s 3ms/step - loss: 0.5049 - categorical_accuracy: 1.0000 - categorical_crossentropy: 0.3226\n",
            "Epoch 84/200\n",
            "7/7 [==============================] - 0s 4ms/step - loss: 0.5220 - categorical_accuracy: 0.9278 - categorical_crossentropy: 0.3394\n",
            "Epoch 85/200\n",
            "7/7 [==============================] - 0s 3ms/step - loss: 0.5001 - categorical_accuracy: 0.9784 - categorical_crossentropy: 0.3181\n",
            "Epoch 86/200\n",
            "7/7 [==============================] - 0s 4ms/step - loss: 0.5328 - categorical_accuracy: 1.0000 - categorical_crossentropy: 0.3514\n",
            "Epoch 87/200\n",
            "7/7 [==============================] - 0s 3ms/step - loss: 0.5012 - categorical_accuracy: 0.9321 - categorical_crossentropy: 0.3194\n",
            "Epoch 88/200\n",
            "7/7 [==============================] - 0s 3ms/step - loss: 0.5000 - categorical_accuracy: 0.8157 - categorical_crossentropy: 0.3187\n",
            "Epoch 89/200\n",
            "7/7 [==============================] - 0s 3ms/step - loss: 0.5038 - categorical_accuracy: 1.0000 - categorical_crossentropy: 0.3235\n",
            "Epoch 90/200\n",
            "7/7 [==============================] - 0s 3ms/step - loss: 0.5012 - categorical_accuracy: 1.0000 - categorical_crossentropy: 0.3204\n",
            "Epoch 91/200\n",
            "7/7 [==============================] - 0s 3ms/step - loss: 0.4884 - categorical_accuracy: 1.0000 - categorical_crossentropy: 0.3072\n",
            "Epoch 92/200\n",
            "7/7 [==============================] - 0s 3ms/step - loss: 0.4838 - categorical_accuracy: 1.0000 - categorical_crossentropy: 0.3032\n",
            "Epoch 93/200\n",
            "7/7 [==============================] - 0s 4ms/step - loss: 0.4904 - categorical_accuracy: 1.0000 - categorical_crossentropy: 0.3095\n",
            "Epoch 94/200\n",
            "7/7 [==============================] - 0s 3ms/step - loss: 0.4929 - categorical_accuracy: 1.0000 - categorical_crossentropy: 0.3119\n",
            "Epoch 95/200\n",
            "7/7 [==============================] - 0s 3ms/step - loss: 0.4843 - categorical_accuracy: 1.0000 - categorical_crossentropy: 0.3035\n",
            "Epoch 96/200\n",
            "7/7 [==============================] - 0s 4ms/step - loss: 0.4652 - categorical_accuracy: 1.0000 - categorical_crossentropy: 0.2845\n",
            "Epoch 97/200\n",
            "7/7 [==============================] - 0s 3ms/step - loss: 0.4711 - categorical_accuracy: 1.0000 - categorical_crossentropy: 0.2902\n",
            "Epoch 98/200\n",
            "7/7 [==============================] - 0s 4ms/step - loss: 0.5113 - categorical_accuracy: 1.0000 - categorical_crossentropy: 0.3306\n",
            "Epoch 99/200\n",
            "7/7 [==============================] - 0s 4ms/step - loss: 0.4843 - categorical_accuracy: 0.9962 - categorical_crossentropy: 0.3038\n",
            "Epoch 100/200\n",
            "7/7 [==============================] - 0s 3ms/step - loss: 0.4595 - categorical_accuracy: 0.9784 - categorical_crossentropy: 0.2794\n",
            "Epoch 101/200\n",
            "7/7 [==============================] - 0s 3ms/step - loss: 0.5012 - categorical_accuracy: 1.0000 - categorical_crossentropy: 0.3210\n",
            "Epoch 102/200\n",
            "7/7 [==============================] - 0s 3ms/step - loss: 0.4768 - categorical_accuracy: 0.9687 - categorical_crossentropy: 0.2963\n",
            "Epoch 103/200\n",
            "7/7 [==============================] - 0s 3ms/step - loss: 0.4686 - categorical_accuracy: 1.0000 - categorical_crossentropy: 0.2888\n",
            "Epoch 104/200\n",
            "7/7 [==============================] - 0s 3ms/step - loss: 0.4864 - categorical_accuracy: 1.0000 - categorical_crossentropy: 0.3068\n",
            "Epoch 105/200\n",
            "7/7 [==============================] - 0s 4ms/step - loss: 0.4556 - categorical_accuracy: 1.0000 - categorical_crossentropy: 0.2756\n",
            "Epoch 106/200\n",
            "7/7 [==============================] - 0s 3ms/step - loss: 0.4823 - categorical_accuracy: 1.0000 - categorical_crossentropy: 0.3026\n",
            "Epoch 107/200\n",
            "7/7 [==============================] - 0s 3ms/step - loss: 0.4451 - categorical_accuracy: 1.0000 - categorical_crossentropy: 0.2657\n",
            "Epoch 108/200\n",
            "7/7 [==============================] - 0s 4ms/step - loss: 0.4906 - categorical_accuracy: 0.9348 - categorical_crossentropy: 0.3113\n",
            "Epoch 109/200\n",
            "7/7 [==============================] - 0s 5ms/step - loss: 0.4743 - categorical_accuracy: 1.0000 - categorical_crossentropy: 0.2953\n",
            "Epoch 110/200\n",
            "7/7 [==============================] - 0s 4ms/step - loss: 0.4550 - categorical_accuracy: 1.0000 - categorical_crossentropy: 0.2759\n",
            "Epoch 111/200\n",
            "7/7 [==============================] - 0s 4ms/step - loss: 0.4466 - categorical_accuracy: 0.9395 - categorical_crossentropy: 0.2675\n",
            "Epoch 112/200\n",
            "7/7 [==============================] - 0s 3ms/step - loss: 0.4755 - categorical_accuracy: 1.0000 - categorical_crossentropy: 0.2969\n",
            "Epoch 113/200\n",
            "7/7 [==============================] - 0s 3ms/step - loss: 0.4424 - categorical_accuracy: 1.0000 - categorical_crossentropy: 0.2637\n",
            "Epoch 114/200\n",
            "7/7 [==============================] - 0s 3ms/step - loss: 0.4583 - categorical_accuracy: 1.0000 - categorical_crossentropy: 0.2793\n",
            "Epoch 115/200\n",
            "7/7 [==============================] - 0s 4ms/step - loss: 0.4536 - categorical_accuracy: 1.0000 - categorical_crossentropy: 0.2750\n",
            "Epoch 116/200\n",
            "7/7 [==============================] - 0s 3ms/step - loss: 0.4471 - categorical_accuracy: 1.0000 - categorical_crossentropy: 0.2686\n",
            "Epoch 117/200\n",
            "7/7 [==============================] - 0s 4ms/step - loss: 0.4661 - categorical_accuracy: 1.0000 - categorical_crossentropy: 0.2874\n",
            "Epoch 118/200\n",
            "7/7 [==============================] - 0s 4ms/step - loss: 0.4580 - categorical_accuracy: 0.9680 - categorical_crossentropy: 0.2792\n",
            "Epoch 119/200\n",
            "7/7 [==============================] - 0s 4ms/step - loss: 0.4322 - categorical_accuracy: 1.0000 - categorical_crossentropy: 0.2540\n",
            "Epoch 120/200\n",
            "7/7 [==============================] - 0s 3ms/step - loss: 0.4849 - categorical_accuracy: 1.0000 - categorical_crossentropy: 0.3067\n",
            "Epoch 121/200\n",
            "7/7 [==============================] - 0s 4ms/step - loss: 0.4456 - categorical_accuracy: 1.0000 - categorical_crossentropy: 0.2671\n",
            "Epoch 122/200\n",
            "7/7 [==============================] - 0s 3ms/step - loss: 0.4594 - categorical_accuracy: 1.0000 - categorical_crossentropy: 0.2812\n",
            "Epoch 123/200\n",
            "7/7 [==============================] - 0s 3ms/step - loss: 0.4635 - categorical_accuracy: 1.0000 - categorical_crossentropy: 0.2854\n",
            "Epoch 124/200\n",
            "7/7 [==============================] - 0s 3ms/step - loss: 0.4633 - categorical_accuracy: 1.0000 - categorical_crossentropy: 0.2851\n",
            "Epoch 125/200\n",
            "7/7 [==============================] - 0s 3ms/step - loss: 0.4532 - categorical_accuracy: 0.9771 - categorical_crossentropy: 0.2747\n",
            "Epoch 126/200\n",
            "7/7 [==============================] - 0s 4ms/step - loss: 0.4712 - categorical_accuracy: 1.0000 - categorical_crossentropy: 0.2932\n",
            "Epoch 127/200\n",
            "7/7 [==============================] - 0s 4ms/step - loss: 0.4461 - categorical_accuracy: 0.9921 - categorical_crossentropy: 0.2682\n",
            "Epoch 128/200\n",
            "7/7 [==============================] - 0s 4ms/step - loss: 0.4632 - categorical_accuracy: 1.0000 - categorical_crossentropy: 0.2854\n",
            "Epoch 129/200\n",
            "7/7 [==============================] - 0s 3ms/step - loss: 0.4506 - categorical_accuracy: 1.0000 - categorical_crossentropy: 0.2729\n",
            "Epoch 130/200\n",
            "7/7 [==============================] - 0s 4ms/step - loss: 0.4817 - categorical_accuracy: 1.0000 - categorical_crossentropy: 0.3043\n",
            "Epoch 131/200\n",
            "7/7 [==============================] - 0s 5ms/step - loss: 0.4537 - categorical_accuracy: 0.9845 - categorical_crossentropy: 0.2765\n",
            "Epoch 132/200\n",
            "7/7 [==============================] - 0s 4ms/step - loss: 0.4642 - categorical_accuracy: 0.9074 - categorical_crossentropy: 0.2872\n",
            "Epoch 133/200\n",
            "7/7 [==============================] - 0s 4ms/step - loss: 0.4494 - categorical_accuracy: 1.0000 - categorical_crossentropy: 0.2729\n",
            "Epoch 134/200\n",
            "7/7 [==============================] - 0s 3ms/step - loss: 0.4340 - categorical_accuracy: 1.0000 - categorical_crossentropy: 0.2572\n",
            "Epoch 135/200\n",
            "7/7 [==============================] - 0s 4ms/step - loss: 0.4442 - categorical_accuracy: 1.0000 - categorical_crossentropy: 0.2677\n",
            "Epoch 136/200\n",
            "7/7 [==============================] - 0s 4ms/step - loss: 0.4350 - categorical_accuracy: 1.0000 - categorical_crossentropy: 0.2589\n",
            "Epoch 137/200\n",
            "7/7 [==============================] - 0s 3ms/step - loss: 0.4337 - categorical_accuracy: 1.0000 - categorical_crossentropy: 0.2577\n",
            "Epoch 138/200\n",
            "7/7 [==============================] - 0s 3ms/step - loss: 0.4441 - categorical_accuracy: 1.0000 - categorical_crossentropy: 0.2684\n",
            "Epoch 139/200\n",
            "7/7 [==============================] - 0s 4ms/step - loss: 0.4376 - categorical_accuracy: 1.0000 - categorical_crossentropy: 0.2619\n",
            "Epoch 140/200\n",
            "7/7 [==============================] - 0s 4ms/step - loss: 0.4384 - categorical_accuracy: 1.0000 - categorical_crossentropy: 0.2628\n",
            "Epoch 141/200\n",
            "7/7 [==============================] - 0s 4ms/step - loss: 0.4313 - categorical_accuracy: 1.0000 - categorical_crossentropy: 0.2559\n",
            "Epoch 142/200\n",
            "7/7 [==============================] - 0s 4ms/step - loss: 0.4209 - categorical_accuracy: 1.0000 - categorical_crossentropy: 0.2458\n",
            "Epoch 143/200\n",
            "7/7 [==============================] - 0s 4ms/step - loss: 0.4355 - categorical_accuracy: 1.0000 - categorical_crossentropy: 0.2606\n",
            "Epoch 144/200\n",
            "7/7 [==============================] - 0s 4ms/step - loss: 0.4246 - categorical_accuracy: 0.9927 - categorical_crossentropy: 0.2495\n",
            "Epoch 145/200\n",
            "7/7 [==============================] - 0s 4ms/step - loss: 0.4228 - categorical_accuracy: 1.0000 - categorical_crossentropy: 0.2481\n",
            "Epoch 146/200\n",
            "7/7 [==============================] - 0s 4ms/step - loss: 0.4392 - categorical_accuracy: 1.0000 - categorical_crossentropy: 0.2645\n",
            "Epoch 147/200\n",
            "7/7 [==============================] - 0s 3ms/step - loss: 0.4259 - categorical_accuracy: 1.0000 - categorical_crossentropy: 0.2514\n",
            "Epoch 148/200\n",
            "7/7 [==============================] - 0s 3ms/step - loss: 0.4206 - categorical_accuracy: 1.0000 - categorical_crossentropy: 0.2465\n",
            "Epoch 149/200\n",
            "7/7 [==============================] - 0s 4ms/step - loss: 0.4209 - categorical_accuracy: 1.0000 - categorical_crossentropy: 0.2468\n",
            "Epoch 150/200\n",
            "7/7 [==============================] - 0s 3ms/step - loss: 0.4348 - categorical_accuracy: 1.0000 - categorical_crossentropy: 0.2611\n",
            "Epoch 151/200\n",
            "7/7 [==============================] - 0s 4ms/step - loss: 0.4166 - categorical_accuracy: 0.9962 - categorical_crossentropy: 0.2430\n",
            "Epoch 152/200\n",
            "7/7 [==============================] - 0s 4ms/step - loss: 0.4511 - categorical_accuracy: 1.0000 - categorical_crossentropy: 0.2778\n",
            "Epoch 153/200\n",
            "7/7 [==============================] - 0s 4ms/step - loss: 0.4233 - categorical_accuracy: 1.0000 - categorical_crossentropy: 0.2500\n",
            "Epoch 154/200\n",
            "7/7 [==============================] - 0s 4ms/step - loss: 0.4307 - categorical_accuracy: 1.0000 - categorical_crossentropy: 0.2577\n",
            "Epoch 155/200\n",
            "7/7 [==============================] - 0s 4ms/step - loss: 0.4111 - categorical_accuracy: 1.0000 - categorical_crossentropy: 0.2385\n",
            "Epoch 156/200\n",
            "7/7 [==============================] - 0s 4ms/step - loss: 0.4186 - categorical_accuracy: 1.0000 - categorical_crossentropy: 0.2461\n",
            "Epoch 157/200\n",
            "7/7 [==============================] - 0s 4ms/step - loss: 0.4502 - categorical_accuracy: 0.9862 - categorical_crossentropy: 0.2776\n",
            "Epoch 158/200\n",
            "7/7 [==============================] - 0s 4ms/step - loss: 0.4014 - categorical_accuracy: 1.0000 - categorical_crossentropy: 0.2292\n",
            "Epoch 159/200\n",
            "7/7 [==============================] - 0s 4ms/step - loss: 0.4147 - categorical_accuracy: 1.0000 - categorical_crossentropy: 0.2423\n",
            "Epoch 160/200\n",
            "7/7 [==============================] - 0s 4ms/step - loss: 0.4217 - categorical_accuracy: 1.0000 - categorical_crossentropy: 0.2496\n",
            "Epoch 161/200\n",
            "7/7 [==============================] - 0s 4ms/step - loss: 0.4317 - categorical_accuracy: 1.0000 - categorical_crossentropy: 0.2598\n",
            "Epoch 162/200\n",
            "7/7 [==============================] - 0s 4ms/step - loss: 0.4148 - categorical_accuracy: 1.0000 - categorical_crossentropy: 0.2429\n",
            "Epoch 163/200\n",
            "7/7 [==============================] - 0s 4ms/step - loss: 0.4171 - categorical_accuracy: 1.0000 - categorical_crossentropy: 0.2452\n",
            "Epoch 164/200\n",
            "7/7 [==============================] - 0s 4ms/step - loss: 0.4405 - categorical_accuracy: 1.0000 - categorical_crossentropy: 0.2686\n",
            "Epoch 165/200\n",
            "7/7 [==============================] - 0s 4ms/step - loss: 0.4204 - categorical_accuracy: 0.9757 - categorical_crossentropy: 0.2484\n",
            "Epoch 166/200\n",
            "7/7 [==============================] - 0s 4ms/step - loss: 0.4298 - categorical_accuracy: 1.0000 - categorical_crossentropy: 0.2581\n",
            "Epoch 167/200\n",
            "7/7 [==============================] - 0s 4ms/step - loss: 0.4275 - categorical_accuracy: 0.9861 - categorical_crossentropy: 0.2558\n",
            "Epoch 168/200\n",
            "7/7 [==============================] - 0s 4ms/step - loss: 0.4265 - categorical_accuracy: 1.0000 - categorical_crossentropy: 0.2548\n",
            "Epoch 169/200\n",
            "7/7 [==============================] - 0s 3ms/step - loss: 0.4218 - categorical_accuracy: 1.0000 - categorical_crossentropy: 0.2503\n",
            "Epoch 170/200\n",
            "7/7 [==============================] - 0s 4ms/step - loss: 0.4016 - categorical_accuracy: 1.0000 - categorical_crossentropy: 0.2297\n",
            "Epoch 171/200\n",
            "7/7 [==============================] - 0s 4ms/step - loss: 0.4198 - categorical_accuracy: 1.0000 - categorical_crossentropy: 0.2483\n",
            "Epoch 172/200\n",
            "7/7 [==============================] - 0s 3ms/step - loss: 0.4118 - categorical_accuracy: 1.0000 - categorical_crossentropy: 0.2402\n",
            "Epoch 173/200\n",
            "7/7 [==============================] - 0s 4ms/step - loss: 0.4098 - categorical_accuracy: 1.0000 - categorical_crossentropy: 0.2383\n",
            "Epoch 174/200\n",
            "7/7 [==============================] - 0s 4ms/step - loss: 0.4090 - categorical_accuracy: 1.0000 - categorical_crossentropy: 0.2376\n",
            "Epoch 175/200\n",
            "7/7 [==============================] - 0s 3ms/step - loss: 0.3823 - categorical_accuracy: 1.0000 - categorical_crossentropy: 0.2107\n",
            "Epoch 176/200\n",
            "7/7 [==============================] - 0s 4ms/step - loss: 0.4194 - categorical_accuracy: 1.0000 - categorical_crossentropy: 0.2480\n",
            "Epoch 177/200\n",
            "7/7 [==============================] - 0s 4ms/step - loss: 0.4031 - categorical_accuracy: 1.0000 - categorical_crossentropy: 0.2316\n",
            "Epoch 178/200\n",
            "7/7 [==============================] - 0s 4ms/step - loss: 0.3990 - categorical_accuracy: 0.9927 - categorical_crossentropy: 0.2275\n",
            "Epoch 179/200\n",
            "7/7 [==============================] - 0s 3ms/step - loss: 0.3792 - categorical_accuracy: 1.0000 - categorical_crossentropy: 0.2082\n",
            "Epoch 180/200\n",
            "7/7 [==============================] - 0s 3ms/step - loss: 0.4105 - categorical_accuracy: 1.0000 - categorical_crossentropy: 0.2395\n",
            "Epoch 181/200\n",
            "7/7 [==============================] - 0s 4ms/step - loss: 0.4084 - categorical_accuracy: 1.0000 - categorical_crossentropy: 0.2374\n",
            "Epoch 182/200\n",
            "7/7 [==============================] - 0s 4ms/step - loss: 0.3852 - categorical_accuracy: 1.0000 - categorical_crossentropy: 0.2144\n",
            "Epoch 183/200\n",
            "7/7 [==============================] - 0s 5ms/step - loss: 0.4007 - categorical_accuracy: 1.0000 - categorical_crossentropy: 0.2300\n",
            "Epoch 184/200\n",
            "7/7 [==============================] - 0s 4ms/step - loss: 0.3879 - categorical_accuracy: 1.0000 - categorical_crossentropy: 0.2175\n",
            "Epoch 185/200\n",
            "7/7 [==============================] - 0s 4ms/step - loss: 0.3913 - categorical_accuracy: 1.0000 - categorical_crossentropy: 0.2212\n",
            "Epoch 186/200\n",
            "7/7 [==============================] - 0s 4ms/step - loss: 0.3909 - categorical_accuracy: 1.0000 - categorical_crossentropy: 0.2207\n",
            "Epoch 187/200\n",
            "7/7 [==============================] - 0s 4ms/step - loss: 0.4115 - categorical_accuracy: 1.0000 - categorical_crossentropy: 0.2413\n",
            "Epoch 188/200\n",
            "7/7 [==============================] - 0s 4ms/step - loss: 0.3997 - categorical_accuracy: 1.0000 - categorical_crossentropy: 0.2301\n",
            "Epoch 189/200\n",
            "7/7 [==============================] - 0s 4ms/step - loss: 0.3820 - categorical_accuracy: 1.0000 - categorical_crossentropy: 0.2124\n",
            "Epoch 190/200\n",
            "7/7 [==============================] - 0s 4ms/step - loss: 0.3790 - categorical_accuracy: 1.0000 - categorical_crossentropy: 0.2094\n",
            "Epoch 191/200\n",
            "7/7 [==============================] - 0s 4ms/step - loss: 0.4018 - categorical_accuracy: 1.0000 - categorical_crossentropy: 0.2324\n",
            "Epoch 192/200\n",
            "7/7 [==============================] - 0s 4ms/step - loss: 0.3921 - categorical_accuracy: 1.0000 - categorical_crossentropy: 0.2228\n",
            "Epoch 193/200\n",
            "7/7 [==============================] - 0s 4ms/step - loss: 0.4059 - categorical_accuracy: 1.0000 - categorical_crossentropy: 0.2371\n",
            "Epoch 194/200\n",
            "7/7 [==============================] - 0s 4ms/step - loss: 0.4103 - categorical_accuracy: 0.9927 - categorical_crossentropy: 0.2413\n",
            "Epoch 195/200\n",
            "7/7 [==============================] - 0s 4ms/step - loss: 0.3591 - categorical_accuracy: 1.0000 - categorical_crossentropy: 0.1903\n",
            "Epoch 196/200\n",
            "7/7 [==============================] - 0s 4ms/step - loss: 0.4184 - categorical_accuracy: 1.0000 - categorical_crossentropy: 0.2500\n",
            "Epoch 197/200\n",
            "7/7 [==============================] - 0s 4ms/step - loss: 0.4028 - categorical_accuracy: 1.0000 - categorical_crossentropy: 0.2340\n",
            "Epoch 198/200\n",
            "7/7 [==============================] - 0s 4ms/step - loss: 0.3985 - categorical_accuracy: 1.0000 - categorical_crossentropy: 0.2300\n",
            "Epoch 199/200\n",
            "7/7 [==============================] - 0s 4ms/step - loss: 0.4103 - categorical_accuracy: 1.0000 - categorical_crossentropy: 0.2419\n",
            "Epoch 200/200\n",
            "7/7 [==============================] - 0s 4ms/step - loss: 0.4006 - categorical_accuracy: 1.0000 - categorical_crossentropy: 0.2318\n"
          ],
          "name": "stdout"
        },
        {
          "output_type": "execute_result",
          "data": {
            "text/plain": [
              "LearningShapelets(batch_size=16, max_iter=200, max_size=None,\n",
              "                  n_shapelets_per_size={27: 4},\n",
              "                  optimizer=<tensorflow.python.keras.optimizer_v2.adam.Adam object at 0x7f7b6aad8d50>,\n",
              "                  random_state=42, scale=False, shapelet_length=0.15,\n",
              "                  total_lengths=3, verbose=1, weight_regularizer=0.01)"
            ]
          },
          "metadata": {
            "tags": []
          },
          "execution_count": 28
        }
      ]
    },
    {
      "cell_type": "code",
      "metadata": {
        "colab": {
          "base_uri": "https://localhost:8080/"
        },
        "id": "rQ1hu9Ogoj3G",
        "outputId": "fc7923c6-285c-404b-d27c-de5d037519af"
      },
      "source": [
        "# Make predictions and calculate accuracy score\n",
        "pred_labels = shp_clf.predict(X_test)\n",
        "print(\"Correct classification rate:\", accuracy_score(y_test, pred_labels))"
      ],
      "execution_count": 29,
      "outputs": [
        {
          "output_type": "stream",
          "text": [
            "7/7 [==============================] - 0s 2ms/step\n",
            "Correct classification rate: 1.0\n"
          ],
          "name": "stdout"
        }
      ]
    },
    {
      "cell_type": "code",
      "metadata": {
        "colab": {
          "base_uri": "https://localhost:8080/",
          "height": 369
        },
        "id": "4SB1jSEOov8Y",
        "outputId": "3afcfba9-f42b-48ec-b1bd-cc450b2cc80f"
      },
      "source": [
        "# Plot the different discovered shapelets\n",
        "plt.figure(figsize=(14,5))\n",
        "for i, sz in enumerate(shapelet_sizes.keys()):\n",
        "    plt.subplot(len(shapelet_sizes), 1, i + 1)\n",
        "    plt.title(\"%d shapelets of size %d\" % (shapelet_sizes[sz], sz))\n",
        "    for shp in shp_clf.shapelets_:\n",
        "        if ts_size(shp) == sz:\n",
        "            plt.plot(shp.ravel())\n",
        "    plt.xlim([0, max(shapelet_sizes.keys()) - 1])\n",
        "\n",
        "plt.tight_layout()\n",
        "plt.show()"
      ],
      "execution_count": 32,
      "outputs": [
        {
          "output_type": "display_data",
          "data": {
            "image/png": "[encoded data removed]",
            "text/plain": [
              "<Figure size 1008x360 with 1 Axes>"
            ]
          },
          "metadata": {
            "tags": [],
            "needs_background": "light"
          }
        }
      ]
    },
    {
      "cell_type": "code",
      "metadata": {
        "colab": {
          "base_uri": "https://localhost:8080/",
          "height": 513
        },
        "id": "oJJPcHiyo1Nr",
        "outputId": "caca8339-b667-4f04-a5cb-2eacf41bc768"
      },
      "source": [
        "# The loss history is accessible via the `model_` that is a keras model\n",
        "plt.figure(figsize=(10,8))\n",
        "plt.plot(numpy.arange(1, shp_clf.n_iter_ + 1), shp_clf.history_[\"loss\"])\n",
        "plt.title(\"Evolution of cross-entropy loss during training\")\n",
        "plt.xlabel(\"Epochs\")\n",
        "plt.show()"
      ],
      "execution_count": 34,
      "outputs": [
        {
          "output_type": "display_data",
          "data": {
            "image/png": "[encoded data removed]",
            "text/plain": [
              "<Figure size 720x576 with 1 Axes>"
            ]
          },
          "metadata": {
            "tags": [],
            "needs_background": "light"
          }
        }
      ]
    }
  ]
}